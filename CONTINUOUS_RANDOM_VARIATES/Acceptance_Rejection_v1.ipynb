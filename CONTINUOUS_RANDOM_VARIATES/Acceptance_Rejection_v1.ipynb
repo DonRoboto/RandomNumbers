{
  "nbformat": 4,
  "nbformat_minor": 0,
  "metadata": {
    "colab": {
      "name": "Acceptance_Rejection_v1.ipynb",
      "provenance": [],
      "authorship_tag": "ABX9TyOVac63mBEOHKOsik8o3OQw",
      "include_colab_link": true
    },
    "kernelspec": {
      "name": "python3",
      "display_name": "Python 3"
    }
  },
  "cells": [
    {
      "cell_type": "markdown",
      "metadata": {
        "id": "view-in-github",
        "colab_type": "text"
      },
      "source": [
        "<a href=\"https://colab.research.google.com/github/DonRoboto/RandomNumbers/blob/master/CONTINUOUS_RANDOM_VARIATES/Acceptance_Rejection_v1.ipynb\" target=\"_parent\"><img src=\"https://colab.research.google.com/assets/colab-badge.svg\" alt=\"Open In Colab\"/></a>"
      ]
    },
    {
      "cell_type": "code",
      "metadata": {
        "id": "TDwf4PBUzUty",
        "colab_type": "code",
        "colab": {}
      },
      "source": [
        "import numpy as np\n",
        "import matplotlib.pyplot as plt\n",
        "import math\n",
        "from scipy.stats import beta"
      ],
      "execution_count": 0,
      "outputs": []
    },
    {
      "cell_type": "code",
      "metadata": {
        "id": "9caO3CyY4j_A",
        "colab_type": "code",
        "colab": {}
      },
      "source": [
        "def F(x):\n",
        "  if 0<x and x<1:\n",
        "    r = (60 * (x**3)) * ((1 - x)**2)\n",
        "  else:\n",
        "    r = 0\n",
        "  return r  "
      ],
      "execution_count": 0,
      "outputs": []
    },
    {
      "cell_type": "code",
      "metadata": {
        "id": "wiQSH58D2O9k",
        "colab_type": "code",
        "colab": {}
      },
      "source": [
        "def C(x):\n",
        "  if 0<x and x<1:\n",
        "    r = 2.0736\n",
        "  else:\n",
        "    r=0\n",
        "  return r "
      ],
      "execution_count": 0,
      "outputs": []
    },
    {
      "cell_type": "code",
      "metadata": {
        "id": "2pEnrgnr3-Lj",
        "colab_type": "code",
        "colab": {}
      },
      "source": [
        "def T(x):\n",
        "  r = (F(x))/C(x)\n",
        "  return r "
      ],
      "execution_count": 0,
      "outputs": []
    },
    {
      "cell_type": "code",
      "metadata": {
        "id": "z0RNCTkG4Doa",
        "colab_type": "code",
        "colab": {}
      },
      "source": [
        "x = np.linspace(0, 1, 10000)\n",
        "y = [0] * len(x)"
      ],
      "execution_count": 0,
      "outputs": []
    },
    {
      "cell_type": "code",
      "metadata": {
        "id": "vsj3FI9q6Ebs",
        "colab_type": "code",
        "colab": {}
      },
      "source": [
        "a = 4\n",
        "b = 3\n",
        "rv = beta(a, b)"
      ],
      "execution_count": 0,
      "outputs": []
    },
    {
      "cell_type": "code",
      "metadata": {
        "id": "2KHjyeI16GS-",
        "colab_type": "code",
        "colab": {}
      },
      "source": [
        "num_simulaciones = 100000\n",
        "data = []\n",
        "\n",
        "for k in range(num_simulaciones):\n",
        "    Y = np.random.uniform(0,1)\n",
        "    U = np.random.uniform(0,1)\n",
        "\n",
        "   \n",
        "    while U > T(Y):\n",
        "      Y = np.random.uniform(0,1)\n",
        "      U = np.random.uniform(0,1)\n",
        "    \n",
        "    data.append(Y)"
      ],
      "execution_count": 0,
      "outputs": []
    },
    {
      "cell_type": "code",
      "metadata": {
        "id": "xBWR6Lvf6IUO",
        "colab_type": "code",
        "colab": {
          "base_uri": "https://localhost:8080/",
          "height": 297
        },
        "outputId": "0f99b172-0ef0-4677-85e1-e8a88555ea2e"
      },
      "source": [
        "fig, ax1 = plt.subplots()\n",
        "plt.grid(True)\n",
        "plt.ylim(top=2.2)\n",
        "plt.ylim(bottom=0)\n",
        "\n",
        "\n",
        "color = 'tab:red'\n",
        "ax1.set_xlabel('x')\n",
        "ax1.set_ylabel('Analítica', color=color)\n",
        "ax1.plot(x, rv.pdf(x), 'r--', color=color, linewidth=3.0)\n",
        "ax1.tick_params(axis='y', labelcolor=color)\n",
        "ax1.set_xlim(0, 1)\n",
        "\n",
        "ax2 = ax1.twinx()  \n",
        "\n",
        "color = 'tab:green'\n",
        "ax2.set_ylabel('Simulación', color=color)  \n",
        "ax2.hist(data,bins=100, color=color, density=True)\n",
        "ax2.tick_params(axis='y', labelcolor=color)\n",
        "\n",
        "fig.tight_layout()  \n",
        "plt.show()"
      ],
      "execution_count": 20,
      "outputs": [
        {
          "output_type": "display_data",
          "data": {
            "image/png": "[encoded data removed]",
            "text/plain": [
              "<Figure size 432x288 with 2 Axes>"
            ]
          },
          "metadata": {
            "tags": [],
            "needs_background": "light"
          }
        }
      ]
    }
  ]
}