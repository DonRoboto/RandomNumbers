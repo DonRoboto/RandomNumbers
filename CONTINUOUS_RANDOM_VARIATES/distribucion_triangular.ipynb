{
  "nbformat": 4,
  "nbformat_minor": 0,
  "metadata": {
    "colab": {
      "name": "distribucion_triangular.ipynb",
      "provenance": [],
      "authorship_tag": "ABX9TyNdFVyfsBqCeQwe7OcwJXG+",
      "include_colab_link": true
    },
    "kernelspec": {
      "name": "python3",
      "display_name": "Python 3"
    }
  },
  "cells": [
    {
      "cell_type": "markdown",
      "metadata": {
        "id": "view-in-github",
        "colab_type": "text"
      },
      "source": [
        "<a href=\"https://colab.research.google.com/github/DonRoboto/RandomNumbers/blob/master/CONTINUOUS_RANDOM_VARIATES/distribucion_triangular.ipynb\" target=\"_parent\"><img src=\"https://colab.research.google.com/assets/colab-badge.svg\" alt=\"Open In Colab\"/></a>"
      ]
    },
    {
      "cell_type": "markdown",
      "metadata": {
        "id": "fwhm7AiLZhHS",
        "colab_type": "text"
      },
      "source": [
        "##DISTRIBUCION TRIANGULAR"
      ]
    },
    {
      "cell_type": "markdown",
      "metadata": {
        "id": "PpxU9_-OZkV5",
        "colab_type": "text"
      },
      "source": [
        "Importamos librerias"
      ]
    },
    {
      "cell_type": "code",
      "metadata": {
        "id": "D3Ie5RfxZlrI",
        "colab_type": "code",
        "colab": {}
      },
      "source": [
        "import numpy as np\n",
        "import matplotlib.pyplot as plt\n",
        "import math"
      ],
      "execution_count": 0,
      "outputs": []
    },
    {
      "cell_type": "markdown",
      "metadata": {
        "id": "4IAI11V_ZoTk",
        "colab_type": "text"
      },
      "source": [
        "Definimos variables"
      ]
    },
    {
      "cell_type": "code",
      "metadata": {
        "id": "g4RpZWDhZjAO",
        "colab_type": "code",
        "colab": {}
      },
      "source": [
        "a = 0\n",
        "b = 1\n",
        "c = 5\n",
        "J = 0\n",
        "\n",
        "x = np.linspace(0, 6, 10000)\n",
        "y = [0] * len(x)"
      ],
      "execution_count": 0,
      "outputs": []
    },
    {
      "cell_type": "markdown",
      "metadata": {
        "id": "YzTck40sZwYa",
        "colab_type": "text"
      },
      "source": [
        "Distribución triangular analítica"
      ]
    },
    {
      "cell_type": "code",
      "metadata": {
        "id": "eki_aCYQZzVK",
        "colab_type": "code",
        "colab": {}
      },
      "source": [
        "for n in range(len(x)):\n",
        "    \n",
        "    if a < x[n] and x[n] <= b:\n",
        "        y[n] = 2*((x[n]-a)/((b-a)*(c-a)))\n",
        "        \n",
        "    if b < x[n] and x[n] <= c:\n",
        "        y[n] = 2*((x[n]-c)/((b-c)*(c-a)))"
      ],
      "execution_count": 0,
      "outputs": []
    },
    {
      "cell_type": "markdown",
      "metadata": {
        "id": "qUN9JXbmZ2cC",
        "colab_type": "text"
      },
      "source": [
        "Simulaciones para generar la distribución triangular con base en numeros aleatorios con distribucion uniforme"
      ]
    },
    {
      "cell_type": "code",
      "metadata": {
        "id": "rZFvBrZ5Z82K",
        "colab_type": "code",
        "colab": {}
      },
      "source": [
        "num_simulaciones = 500000\n",
        "data = []\n",
        "\n",
        "for k in range(num_simulaciones):\n",
        "    u = np.random.uniform(0,1)\n",
        "    u2 = np.random.uniform(0,1)\n",
        "    \n",
        "    if u <= ((b - a)/(c-a)):\n",
        "        J = 1\n",
        "    else: \n",
        "        J = 2\n",
        "        \n",
        "    if J == 1:\n",
        "        u_aux = a + math.sqrt(u2) * (b - a) \n",
        "    else: \n",
        "        u_aux = c - math.sqrt(u2) * (c - b) \n",
        "        \n",
        "    data.append(u_aux)"
      ],
      "execution_count": 0,
      "outputs": []
    },
    {
      "cell_type": "markdown",
      "metadata": {
        "id": "czckYgg0aFQa",
        "colab_type": "text"
      },
      "source": [
        "Graficamos y comparamos ambas distribuciones"
      ]
    },
    {
      "cell_type": "code",
      "metadata": {
        "id": "zsWcY7bKaHzL",
        "colab_type": "code",
        "colab": {
          "base_uri": "https://localhost:8080/",
          "height": 297
        },
        "outputId": "537255f3-ec1e-4304-fab6-633ee8101f07"
      },
      "source": [
        "fig, ax1 = plt.subplots()\n",
        "plt.grid(True)\n",
        "plt.ylim(top=0.4)\n",
        "plt.ylim(bottom=0)\n",
        "\n",
        "\n",
        "color = 'tab:red'\n",
        "ax1.set_xlabel('x')\n",
        "ax1.set_ylabel('Analítica', color=color)\n",
        "ax1.plot(x, y, 'r--', color=color, linewidth=3.0)\n",
        "ax1.tick_params(axis='y', labelcolor=color)\n",
        "ax1.set_xlim(0, 6)\n",
        "\n",
        "ax2 = ax1.twinx()  \n",
        "\n",
        "color = 'tab:green'\n",
        "ax2.set_ylabel('Simulación', color=color)  \n",
        "ax2.hist(data,bins=100, color=color)\n",
        "ax2.tick_params(axis='y', labelcolor=color)\n",
        "\n",
        "fig.tight_layout()  \n",
        "plt.show()"
      ],
      "execution_count": 5,
      "outputs": [
        {
          "output_type": "display_data",
          "data": {
            "image/png": "[encoded data removed]",
            "text/plain": [
              "<Figure size 432x288 with 2 Axes>"
            ]
          },
          "metadata": {
            "tags": [],
            "needs_background": "light"
          }
        }
      ]
    }
  ]
}