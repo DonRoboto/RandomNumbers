{
  "nbformat": 4,
  "nbformat_minor": 0,
  "metadata": {
    "colab": {
      "name": "distribucion_laplace.ipynb",
      "provenance": [],
      "authorship_tag": "ABX9TyNcaFrujGBLP0FC2QNPnbSF",
      "include_colab_link": true
    },
    "kernelspec": {
      "name": "python3",
      "display_name": "Python 3"
    }
  },
  "cells": [
    {
      "cell_type": "markdown",
      "metadata": {
        "id": "view-in-github",
        "colab_type": "text"
      },
      "source": [
        "<a href=\"https://colab.research.google.com/github/DonRoboto/RandomNumbers/blob/master/CONTINUOUS_RANDOM_VARIATES/distribucion_laplace.ipynb\" target=\"_parent\"><img src=\"https://colab.research.google.com/assets/colab-badge.svg\" alt=\"Open In Colab\"/></a>"
      ]
    },
    {
      "cell_type": "markdown",
      "metadata": {
        "id": "McDrfmb5aokt",
        "colab_type": "text"
      },
      "source": [
        "##DISTRIBUCION LAPLACE"
      ]
    },
    {
      "cell_type": "markdown",
      "metadata": {
        "id": "4iFwYMbwarg1",
        "colab_type": "text"
      },
      "source": [
        "Importamos librerias"
      ]
    },
    {
      "cell_type": "code",
      "metadata": {
        "id": "oL00EStHau6u",
        "colab_type": "code",
        "colab": {}
      },
      "source": [
        "import numpy as np\n",
        "import matplotlib.pyplot as plt\n",
        "import math"
      ],
      "execution_count": 0,
      "outputs": []
    },
    {
      "cell_type": "markdown",
      "metadata": {
        "id": "UEGDZcpZavkf",
        "colab_type": "text"
      },
      "source": [
        "Definimos variables"
      ]
    },
    {
      "cell_type": "code",
      "metadata": {
        "id": "9Cs2FkW_aw0T",
        "colab_type": "code",
        "colab": {}
      },
      "source": [
        "J = 0\n",
        "x = np.linspace(-10, 10, 10000)\n",
        "y = [0] * len(x)"
      ],
      "execution_count": 0,
      "outputs": []
    },
    {
      "cell_type": "markdown",
      "metadata": {
        "id": "5V6zsSpCa2Ci",
        "colab_type": "text"
      },
      "source": [
        "Distribución analítica"
      ]
    },
    {
      "cell_type": "code",
      "metadata": {
        "id": "nlSKnI1Na36_",
        "colab_type": "code",
        "colab": {}
      },
      "source": [
        "for n in range(len(x)):    \n",
        "    y[n] = 0.5 * np.exp(-abs(x[n]))"
      ],
      "execution_count": 0,
      "outputs": []
    },
    {
      "cell_type": "markdown",
      "metadata": {
        "id": "tvfTYQ49a6ma",
        "colab_type": "text"
      },
      "source": [
        "Simulaciones para obtener una distribución de Laplace con base en números aleatorios con distribucion uniforme"
      ]
    },
    {
      "cell_type": "code",
      "metadata": {
        "id": "TTJTorZHbAzr",
        "colab_type": "code",
        "colab": {}
      },
      "source": [
        "num_simulaciones = 2000\n",
        "data = []\n",
        "\n",
        "for k in range(num_simulaciones):\n",
        "    u = np.random.uniform(0,1)\n",
        "    u2 = np.random.uniform(0,1)\n",
        "    \n",
        "    if u <= 0.5:\n",
        "        J = 1\n",
        "    else: \n",
        "        J = 2\n",
        "        \n",
        "    if J == 1:\n",
        "        u_aux = math.log(u2)\n",
        "    else: \n",
        "        u_aux = -math.log(u2)\n",
        "        \n",
        "    data.append(u_aux)"
      ],
      "execution_count": 0,
      "outputs": []
    },
    {
      "cell_type": "markdown",
      "metadata": {
        "id": "3cZtVxuvbK6S",
        "colab_type": "text"
      },
      "source": [
        "Graficamos y comparamos ambas distribuciones"
      ]
    },
    {
      "cell_type": "code",
      "metadata": {
        "id": "v2MjkFfIbMXz",
        "colab_type": "code",
        "colab": {
          "base_uri": "https://localhost:8080/",
          "height": 297
        },
        "outputId": "56e5cf6a-91c0-4056-d02f-d227ae77eb54"
      },
      "source": [
        "fig, ax1 = plt.subplots()\n",
        "plt.grid(True)\n",
        "plt.ylim(top=0.5)\n",
        "plt.ylim(bottom=0)\n",
        "\n",
        "\n",
        "color = 'tab:red'\n",
        "ax1.set_xlabel('x')\n",
        "ax1.set_ylabel('Analítica', color=color)\n",
        "ax1.plot(x, y, 'r--', color=color, linewidth=3.0)\n",
        "ax1.tick_params(axis='y', labelcolor=color)\n",
        "ax1.set_xlim(-10, 10)\n",
        "\n",
        "ax2 = ax1.twinx()  \n",
        "\n",
        "color = 'tab:green'\n",
        "ax2.set_ylabel('Simulación', color=color)  \n",
        "ax2.hist(data,bins=100, color=color)\n",
        "ax2.tick_params(axis='y', labelcolor=color)\n",
        "\n",
        "fig.tight_layout()  \n",
        "plt.show()"
      ],
      "execution_count": 9,
      "outputs": [
        {
          "output_type": "display_data",
          "data": {
            "image/png": "[encoded data removed]",
            "text/plain": [
              "<Figure size 432x288 with 2 Axes>"
            ]
          },
          "metadata": {
            "tags": [],
            "needs_background": "light"
          }
        }
      ]
    }
  ]
}