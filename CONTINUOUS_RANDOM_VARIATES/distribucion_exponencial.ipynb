{
  "nbformat": 4,
  "nbformat_minor": 0,
  "metadata": {
    "colab": {
      "name": "distribucion_exponencial.ipynb",
      "provenance": [],
      "authorship_tag": "ABX9TyMnQRXxlsYw/NE55BOuL7iJ",
      "include_colab_link": true
    },
    "kernelspec": {
      "name": "python3",
      "display_name": "Python 3"
    }
  },
  "cells": [
    {
      "cell_type": "markdown",
      "metadata": {
        "id": "view-in-github",
        "colab_type": "text"
      },
      "source": [
        "<a href=\"https://colab.research.google.com/github/DonRoboto/RandomNumbers/blob/master/CONTINUOUS_RANDOM_VARIATES/distribucion_exponencial.ipynb\" target=\"_parent\"><img src=\"https://colab.research.google.com/assets/colab-badge.svg\" alt=\"Open In Colab\"/></a>"
      ]
    },
    {
      "cell_type": "markdown",
      "metadata": {
        "id": "x4qiXkNRNiXG",
        "colab_type": "text"
      },
      "source": [
        "##DISTRIBUCION EXPONENCIAL"
      ]
    },
    {
      "cell_type": "markdown",
      "metadata": {
        "id": "NfH7jWReNn-o",
        "colab_type": "text"
      },
      "source": [
        "Importamos librerias"
      ]
    },
    {
      "cell_type": "code",
      "metadata": {
        "id": "mmsehvX8NlWi",
        "colab_type": "code",
        "colab": {}
      },
      "source": [
        "import numpy as np\n",
        "import scipy.stats as ss\n",
        "import matplotlib.pyplot as plt\n",
        "import math"
      ],
      "execution_count": 0,
      "outputs": []
    },
    {
      "cell_type": "markdown",
      "metadata": {
        "id": "C7e5mP2GO1Qr",
        "colab_type": "text"
      },
      "source": [
        "Distribución exponencial de forma analítica"
      ]
    },
    {
      "cell_type": "code",
      "metadata": {
        "id": "8WauoXkgO4ES",
        "colab_type": "code",
        "colab": {}
      },
      "source": [
        "mu = 0\n",
        "sigma = 4\n",
        "\n",
        "x = np.linspace(0, 25, 100)\n",
        "y = ss.expon.pdf(x, mu, sigma)"
      ],
      "execution_count": 0,
      "outputs": []
    },
    {
      "cell_type": "markdown",
      "metadata": {
        "id": "ec2eK5XnO8d7",
        "colab_type": "text"
      },
      "source": [
        "Simulación para generar una distribución exponencial basado en una distribución uniforme"
      ]
    },
    {
      "cell_type": "code",
      "metadata": {
        "id": "zsW3K8lUPCyG",
        "colab_type": "code",
        "colab": {}
      },
      "source": [
        "num_simulaciones = 2000\n",
        "data = []\n",
        "\n",
        "for k in range(num_simulaciones):\n",
        "    u = np.random.uniform(0,1)\n",
        "    x_aux = np.log(u)\n",
        "    data.append((-1 *  x_aux)/(1/sigma))"
      ],
      "execution_count": 0,
      "outputs": []
    },
    {
      "cell_type": "markdown",
      "metadata": {
        "id": "8pwkE0IQPFZV",
        "colab_type": "text"
      },
      "source": [
        "Graficamos y comparamos ambas distribuciones"
      ]
    },
    {
      "cell_type": "code",
      "metadata": {
        "id": "L-4ftkxpPH5d",
        "colab_type": "code",
        "colab": {
          "base_uri": "https://localhost:8080/",
          "height": 297
        },
        "outputId": "5e3e69e5-fdf7-4064-80c4-c47445514b11"
      },
      "source": [
        "fig, ax1 = plt.subplots()\n",
        "plt.grid(True)\n",
        "plt.ylim(top=0.25)\n",
        "plt.ylim(bottom=0)\n",
        "\n",
        "\n",
        "color = 'tab:red'\n",
        "ax1.set_xlabel('x')\n",
        "ax1.set_ylabel('Analítica', color=color)\n",
        "ax1.plot(x, y, 'r--', color=color, linewidth=3.0)\n",
        "ax1.tick_params(axis='y', labelcolor=color)\n",
        "ax1.set_xlim(0, 25)\n",
        "\n",
        "ax2 = ax1.twinx()  \n",
        "\n",
        "color = 'tab:green'\n",
        "ax2.set_ylabel('Simulación', color=color)  \n",
        "ax2.hist(data,bins=100, color=color)\n",
        "ax2.tick_params(axis='y', labelcolor=color)\n",
        "\n",
        "fig.tight_layout()  \n",
        "plt.show()\n"
      ],
      "execution_count": 4,
      "outputs": [
        {
          "output_type": "display_data",
          "data": {
            "image/png": "[encoded data removed]",
            "text/plain": [
              "<Figure size 432x288 with 2 Axes>"
            ]
          },
          "metadata": {
            "tags": [],
            "needs_background": "light"
          }
        }
      ]
    }
  ]
}