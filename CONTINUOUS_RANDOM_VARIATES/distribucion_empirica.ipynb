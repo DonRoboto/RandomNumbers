{
  "nbformat": 4,
  "nbformat_minor": 0,
  "metadata": {
    "colab": {
      "name": "distribucion_empirica.ipynb",
      "provenance": [],
      "authorship_tag": "ABX9TyNrS2FuAkV9V0HfTnzePOO7",
      "include_colab_link": true
    },
    "kernelspec": {
      "name": "python3",
      "display_name": "Python 3"
    }
  },
  "cells": [
    {
      "cell_type": "markdown",
      "metadata": {
        "id": "view-in-github",
        "colab_type": "text"
      },
      "source": [
        "<a href=\"https://colab.research.google.com/github/DonRoboto/RandomNumbers/blob/master/CONTINUOUS_RANDOM_VARIATES/distribucion_empirica.ipynb\" target=\"_parent\"><img src=\"https://colab.research.google.com/assets/colab-badge.svg\" alt=\"Open In Colab\"/></a>"
      ]
    },
    {
      "cell_type": "markdown",
      "metadata": {
        "id": "1-oS87JNX66S",
        "colab_type": "text"
      },
      "source": [
        "##DISTRIBUCION EMPIRICA"
      ]
    },
    {
      "cell_type": "markdown",
      "metadata": {
        "id": "csjjQl61X9xS",
        "colab_type": "text"
      },
      "source": [
        "Importamos librerias"
      ]
    },
    {
      "cell_type": "code",
      "metadata": {
        "id": "mEzBD5clX8y7",
        "colab_type": "code",
        "colab": {}
      },
      "source": [
        "import numpy as np\n",
        "import matplotlib.pyplot as plt\n",
        "import math"
      ],
      "execution_count": 0,
      "outputs": []
    },
    {
      "cell_type": "markdown",
      "metadata": {
        "id": "zj2kck9sYGWA",
        "colab_type": "text"
      },
      "source": [
        "Declaramos variables"
      ]
    },
    {
      "cell_type": "code",
      "metadata": {
        "id": "NJ9LZ4CqYH20",
        "colab_type": "code",
        "colab": {}
      },
      "source": [
        "x = np.linspace(0, 3, 100)\n",
        "y = [0]*len(x)"
      ],
      "execution_count": 0,
      "outputs": []
    },
    {
      "cell_type": "markdown",
      "metadata": {
        "id": "L7fpLZDSYV9q",
        "colab_type": "text"
      },
      "source": [
        "Distribución empírica generada de forma analítica"
      ]
    },
    {
      "cell_type": "code",
      "metadata": {
        "id": "Rfqs2dkHYVNA",
        "colab_type": "code",
        "colab": {}
      },
      "source": [
        "for i in range(len(x)):\n",
        "    if x[i]>=0 and x[i]<=1:\n",
        "        y[i] = x[i]\n",
        "    if x[i]>1 and x[i]<=2:\n",
        "        y[i] = 0.5\n",
        "    if x[i]>2:\n",
        "        y[i] = 0"
      ],
      "execution_count": 0,
      "outputs": []
    },
    {
      "cell_type": "markdown",
      "metadata": {
        "id": "d82zKXTFYdaw",
        "colab_type": "text"
      },
      "source": [
        "Simulación para generar la distribución empírica con base en una distribución uniforme"
      ]
    },
    {
      "cell_type": "code",
      "metadata": {
        "id": "XL1sqStEYjzx",
        "colab_type": "code",
        "colab": {}
      },
      "source": [
        "num_simulaciones = 500000\n",
        "data = []\n",
        "\n",
        "for k in range(num_simulaciones):\n",
        "    u = np.random.uniform(0,1)\n",
        "    if u<0.5:\n",
        "        u_aux = math.sqrt(2*u)\n",
        "    else:\n",
        "        u_aux = 2*u\n",
        "    data.append(u_aux)"
      ],
      "execution_count": 0,
      "outputs": []
    },
    {
      "cell_type": "markdown",
      "metadata": {
        "id": "jVhiPrhlYzqc",
        "colab_type": "text"
      },
      "source": [
        "Graficamos y comparamos ambas distribuciones\n"
      ]
    },
    {
      "cell_type": "code",
      "metadata": {
        "id": "krF9kBlYY3S2",
        "colab_type": "code",
        "outputId": "761de50c-d1c6-48a2-8145-a8717c7d5278",
        "colab": {
          "base_uri": "https://localhost:8080/",
          "height": 297
        }
      },
      "source": [
        "fig, ax1 = plt.subplots()\n",
        "plt.grid(True)\n",
        "plt.ylim(top=1)\n",
        "plt.ylim(bottom=0)\n",
        "\n",
        "\n",
        "color = 'tab:red'\n",
        "ax1.set_xlabel('x')\n",
        "ax1.set_ylabel('Analítica', color=color)\n",
        "ax1.plot(x, y, 'r--', color=color, linewidth=3.0)\n",
        "ax1.tick_params(axis='y', labelcolor=color)\n",
        "ax1.set_xlim(0, 3)\n",
        "\n",
        "ax2 = ax1.twinx()  \n",
        "\n",
        "color = 'tab:green'\n",
        "ax2.set_ylabel('Simulación', color=color)  \n",
        "ax2.hist(data,bins=100, color=color,density=True)\n",
        "ax2.tick_params(axis='y', labelcolor=color)\n",
        "\n",
        "fig.tight_layout()  \n",
        "plt.show()"
      ],
      "execution_count": 5,
      "outputs": [
        {
          "output_type": "display_data",
          "data": {
            "image/png": "[encoded data removed]",
            "text/plain": [
              "<Figure size 432x288 with 2 Axes>"
            ]
          },
          "metadata": {
            "tags": [],
            "needs_background": "light"
          }
        }
      ]
    }
  ]
}