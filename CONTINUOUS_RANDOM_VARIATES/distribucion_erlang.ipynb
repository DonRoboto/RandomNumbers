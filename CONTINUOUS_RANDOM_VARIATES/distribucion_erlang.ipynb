{
  "nbformat": 4,
  "nbformat_minor": 0,
  "metadata": {
    "colab": {
      "name": "distribucion_erlang.ipynb",
      "provenance": [],
      "authorship_tag": "ABX9TyPMz6/SN+w4QkizB4orRNsX",
      "include_colab_link": true
    },
    "kernelspec": {
      "name": "python3",
      "display_name": "Python 3"
    }
  },
  "cells": [
    {
      "cell_type": "markdown",
      "metadata": {
        "id": "view-in-github",
        "colab_type": "text"
      },
      "source": [
        "<a href=\"https://colab.research.google.com/github/DonRoboto/RandomNumbers/blob/master/CONTINUOUS_RANDOM_VARIATES/distribucion_erlang.ipynb\" target=\"_parent\"><img src=\"https://colab.research.google.com/assets/colab-badge.svg\" alt=\"Open In Colab\"/></a>"
      ]
    },
    {
      "cell_type": "markdown",
      "metadata": {
        "id": "9Bpl-AujbtTy",
        "colab_type": "text"
      },
      "source": [
        "##DISTRIBUCION ERLANG"
      ]
    },
    {
      "cell_type": "markdown",
      "metadata": {
        "id": "LKpPo4Rubugl",
        "colab_type": "text"
      },
      "source": [
        "Importamos librerias"
      ]
    },
    {
      "cell_type": "code",
      "metadata": {
        "id": "rdkTiBVObwBB",
        "colab_type": "code",
        "colab": {}
      },
      "source": [
        "import numpy as np\n",
        "import matplotlib.pyplot as plt\n",
        "import math"
      ],
      "execution_count": 0,
      "outputs": []
    },
    {
      "cell_type": "markdown",
      "metadata": {
        "id": "fxMszOaubyXj",
        "colab_type": "text"
      },
      "source": [
        "Definimos variables"
      ]
    },
    {
      "cell_type": "code",
      "metadata": {
        "id": "NnsATlLAbzkM",
        "colab_type": "code",
        "colab": {}
      },
      "source": [
        "beta = 5\n",
        "m = 4\n",
        "\n",
        "lmd = (m / beta)\n",
        "k = m\n",
        "\n",
        "x = np.linspace(0, 20, 10000)\n",
        "y = [0] * len(x)"
      ],
      "execution_count": 0,
      "outputs": []
    },
    {
      "cell_type": "markdown",
      "metadata": {
        "id": "1klcRNESb4ti",
        "colab_type": "text"
      },
      "source": [
        "Fórmula analítica de la distribución Erlang"
      ]
    },
    {
      "cell_type": "code",
      "metadata": {
        "id": "ljblpsPkb8zm",
        "colab_type": "code",
        "colab": {}
      },
      "source": [
        "for n in range(len(x)):    \n",
        "    y[n] = (lmd * np.exp(-lmd * x[n])) * (((lmd * x[n])**(k - 1))/(math.factorial(k - 1)))    \n"
      ],
      "execution_count": 0,
      "outputs": []
    },
    {
      "cell_type": "markdown",
      "metadata": {
        "id": "Ekp04RVUb_1x",
        "colab_type": "text"
      },
      "source": [
        "Simulaciones para obtener la distribución Erlang con variables aleatorias con distribución uniforme utilizando el método de convolución"
      ]
    },
    {
      "cell_type": "code",
      "metadata": {
        "id": "YZOrImPUcLXM",
        "colab_type": "code",
        "colab": {}
      },
      "source": [
        "num_simulaciones = 7000\n",
        "data = []\n",
        "\n",
        "for k in range(num_simulaciones):\n",
        "\n",
        "    #suma de variables aleatorias uniformes\n",
        "    u_aux = np.random.uniform(0,1)    \n",
        "    for t in range(1, m):\n",
        "        u_aux = u_aux * np.random.uniform(0,1)\n",
        "        \n",
        "    u  = np.log(u_aux)\n",
        "    u_final = (-beta / m) * (u)\n",
        "        \n",
        "    data.append(u_final)"
      ],
      "execution_count": 0,
      "outputs": []
    },
    {
      "cell_type": "markdown",
      "metadata": {
        "id": "qoFuiUbEcfSP",
        "colab_type": "text"
      },
      "source": [
        "Graficamos y comparamos ambas distribuciones"
      ]
    },
    {
      "cell_type": "code",
      "metadata": {
        "id": "bPPuTUuBchzp",
        "colab_type": "code",
        "colab": {
          "base_uri": "https://localhost:8080/",
          "height": 297
        },
        "outputId": "d62eff2b-bf07-46e8-d1d3-5cf4c9c7047c"
      },
      "source": [
        "fig, ax1 = plt.subplots()\n",
        "plt.grid(True)\n",
        "plt.ylim(top=0.2)\n",
        "plt.ylim(bottom=0)\n",
        "\n",
        "color = 'tab:red'\n",
        "ax1.set_xlabel('x')\n",
        "ax1.set_ylabel('Analítica', color=color)\n",
        "ax1.plot(x, y, 'r--', color=color, linewidth=3.0)\n",
        "ax1.tick_params(axis='y', labelcolor=color)\n",
        "ax1.set_xlim(0, 20)\n",
        "\n",
        "ax2 = ax1.twinx()  \n",
        "\n",
        "color = 'tab:green'\n",
        "ax2.set_ylabel('Simulación', color=color)  \n",
        "ax2.hist(data,bins=100, color=color)\n",
        "ax2.tick_params(axis='y', labelcolor=color)\n",
        "\n",
        "fig.tight_layout()  \n",
        "plt.show()"
      ],
      "execution_count": 5,
      "outputs": [
        {
          "output_type": "display_data",
          "data": {
            "image/png": "[encoded data removed]",
            "text/plain": [
              "<Figure size 432x288 with 2 Axes>"
            ]
          },
          "metadata": {
            "tags": [],
            "needs_background": "light"
          }
        }
      ]
    }
  ]
}