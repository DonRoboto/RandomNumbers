{
  "nbformat": 4,
  "nbformat_minor": 0,
  "metadata": {
    "colab": {
      "name": "distribucion_erlang.ipynb",
      "provenance": [],
      "authorship_tag": "ABX9TyPRn/l5OPGpv34gj8N2Q66A",
      "include_colab_link": true
    },
    "kernelspec": {
      "name": "python3",
      "display_name": "Python 3"
    }
  },
  "cells": [
    {
      "cell_type": "markdown",
      "metadata": {
        "id": "view-in-github",
        "colab_type": "text"
      },
      "source": [
        "<a href=\"https://colab.research.google.com/github/DonRoboto/RandomNumbers/blob/master/CONTINUOUS_RANDOM_VARIATES/distribucion_erlang.ipynb\" target=\"_parent\"><img src=\"https://colab.research.google.com/assets/colab-badge.svg\" alt=\"Open In Colab\"/></a>"
      ]
    },
    {
      "cell_type": "markdown",
      "metadata": {
        "id": "9Bpl-AujbtTy",
        "colab_type": "text"
      },
      "source": [
        "##DISTRIBUCION ERLANG"
      ]
    },
    {
      "cell_type": "markdown",
      "metadata": {
        "id": "LKpPo4Rubugl",
        "colab_type": "text"
      },
      "source": [
        "Importamos librerias"
      ]
    },
    {
      "cell_type": "code",
      "metadata": {
        "id": "rdkTiBVObwBB",
        "colab_type": "code",
        "colab": {}
      },
      "source": [
        "import numpy as np\n",
        "import matplotlib.pyplot as plt\n",
        "import math"
      ],
      "execution_count": 0,
      "outputs": []
    },
    {
      "cell_type": "markdown",
      "metadata": {
        "id": "fxMszOaubyXj",
        "colab_type": "text"
      },
      "source": [
        "Definimos variables"
      ]
    },
    {
      "cell_type": "code",
      "metadata": {
        "id": "NnsATlLAbzkM",
        "colab_type": "code",
        "colab": {}
      },
      "source": [
        "beta = 5\n",
        "m = 4\n",
        "\n",
        "lmd = (m / beta)\n",
        "k = m\n",
        "\n",
        "x = np.linspace(0, 20, 10000)\n",
        "y = [0] * len(x)"
      ],
      "execution_count": 0,
      "outputs": []
    },
    {
      "cell_type": "markdown",
      "metadata": {
        "id": "1klcRNESb4ti",
        "colab_type": "text"
      },
      "source": [
        "Fórmula analítica de la distribución Erlang"
      ]
    },
    {
      "cell_type": "code",
      "metadata": {
        "id": "ljblpsPkb8zm",
        "colab_type": "code",
        "colab": {}
      },
      "source": [
        "for n in range(len(x)):    \n",
        "    y[n] = (lmd * np.exp(-lmd * x[n])) * (((lmd * x[n])**(k - 1))/(math.factorial(k - 1)))    \n"
      ],
      "execution_count": 0,
      "outputs": []
    },
    {
      "cell_type": "markdown",
      "metadata": {
        "id": "Ekp04RVUb_1x",
        "colab_type": "text"
      },
      "source": [
        "Simulaciones para obtener la distribución Erlang con variables aleatorias con distribución uniforme utilizando el método de convolución"
      ]
    },
    {
      "cell_type": "code",
      "metadata": {
        "id": "YZOrImPUcLXM",
        "colab_type": "code",
        "colab": {}
      },
      "source": [
        "num_simulaciones = 7000\n",
        "data = []\n",
        "\n",
        "for k in range(num_simulaciones):\n",
        "\n",
        "    #suma de variables aleatorias uniformes\n",
        "    u_aux = np.random.uniform(0,1)    \n",
        "    for t in range(1, m):\n",
        "        u_aux = u_aux * np.random.uniform(0,1)\n",
        "        \n",
        "    u_final = (-beta / m) * np.log(u_aux)\n",
        "        \n",
        "    data.append(u_final)"
      ],
      "execution_count": 0,
      "outputs": []
    },
    {
      "cell_type": "markdown",
      "metadata": {
        "id": "qoFuiUbEcfSP",
        "colab_type": "text"
      },
      "source": [
        "Graficamos y comparamos ambas distribuciones"
      ]
    },
    {
      "cell_type": "code",
      "metadata": {
        "id": "bPPuTUuBchzp",
        "colab_type": "code",
        "outputId": "a2cac87c-c500-4b35-a0b3-691be028b3f1",
        "colab": {
          "base_uri": "https://localhost:8080/",
          "height": 297
        }
      },
      "source": [
        "fig, ax1 = plt.subplots()\n",
        "plt.grid(True)\n",
        "plt.ylim(top=0.2)\n",
        "plt.ylim(bottom=0)\n",
        "\n",
        "color = 'tab:red'\n",
        "ax1.set_xlabel('x')\n",
        "ax1.set_ylabel('Analítica', color=color)\n",
        "ax1.plot(x, y, 'r--', color=color, linewidth=3.0)\n",
        "ax1.tick_params(axis='y', labelcolor=color)\n",
        "ax1.set_xlim(0, 20)\n",
        "\n",
        "ax2 = ax1.twinx()  \n",
        "\n",
        "color = 'tab:green'\n",
        "ax2.set_ylabel('Simulación', color=color)  \n",
        "ax2.hist(data,bins=100, color=color, density=True)\n",
        "ax2.tick_params(axis='y', labelcolor=color)\n",
        "\n",
        "fig.tight_layout()  \n",
        "plt.show()"
      ],
      "execution_count": 5,
      "outputs": [
        {
          "output_type": "display_data",
          "data": {
            "image/png": "[encoded data removed]",
            "text/plain": [
              "<Figure size 432x288 with 2 Axes>"
            ]
          },
          "metadata": {
            "tags": [],
            "needs_background": "light"
          }
        }
      ]
    }
  ]
}