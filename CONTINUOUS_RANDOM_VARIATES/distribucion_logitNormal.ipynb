{
  "nbformat": 4,
  "nbformat_minor": 0,
  "metadata": {
    "colab": {
      "name": "Logit_Normal_v1.ipynb",
      "provenance": [],
      "collapsed_sections": [],
      "authorship_tag": "ABX9TyNFJ5+Kf3WMeG0zEpFiIvaV",
      "include_colab_link": true
    },
    "kernelspec": {
      "name": "python3",
      "display_name": "Python 3"
    }
  },
  "cells": [
    {
      "cell_type": "markdown",
      "metadata": {
        "id": "view-in-github",
        "colab_type": "text"
      },
      "source": [
        "<a href=\"https://colab.research.google.com/github/DonRoboto/RandomNumbers/blob/master/CONTINUOUS_RANDOM_VARIATES/Logit_Normal_v1.ipynb\" target=\"_parent\"><img src=\"https://colab.research.google.com/assets/colab-badge.svg\" alt=\"Open In Colab\"/></a>"
      ]
    },
    {
      "cell_type": "code",
      "metadata": {
        "id": "TDwf4PBUzUty",
        "colab_type": "code",
        "colab": {}
      },
      "source": [
        "import numpy as np\n",
        "import matplotlib.pyplot as plt\n",
        "import math"
      ],
      "execution_count": 0,
      "outputs": []
    },
    {
      "cell_type": "code",
      "metadata": {
        "id": "9caO3CyY4j_A",
        "colab_type": "code",
        "colab": {}
      },
      "source": [
        "def F(x):\n",
        "  if 0<x and x<1:\n",
        "    denominador = np.sqrt(2 * np.pi) * (1 - x) * x\n",
        "    lg = (np.log(x/(1 - x)))**2\n",
        "    numerador = np.exp(-0.5 * lg)\n",
        "    r = numerador / denominador\n",
        "  else:\n",
        "    r = 0\n",
        "  return r  "
      ],
      "execution_count": 0,
      "outputs": []
    },
    {
      "cell_type": "code",
      "metadata": {
        "id": "wiQSH58D2O9k",
        "colab_type": "code",
        "colab": {}
      },
      "source": [
        "def T(x):\n",
        "  if 0<x and x<1:\n",
        "    r = x + 2\n",
        "  else:\n",
        "    r = 0\n",
        "  return r  "
      ],
      "execution_count": 0,
      "outputs": []
    },
    {
      "cell_type": "code",
      "metadata": {
        "id": "2pEnrgnr3-Lj",
        "colab_type": "code",
        "colab": {}
      },
      "source": [
        "def Logit(p):\n",
        "  return np.log(p /(1-p))"
      ],
      "execution_count": 0,
      "outputs": []
    },
    {
      "cell_type": "code",
      "metadata": {
        "id": "bDFxnZ-7MNqy",
        "colab_type": "code",
        "colab": {}
      },
      "source": [
        "def LogitNormal(x, mu, sigma):\n",
        "  elemento1 = 1 / (sigma * np.sqrt(2 * np.pi)) \n",
        "  elemento2 = 1 / (x * (1 - x))\n",
        "  elemento3 = ((Logit(x) - mu)**2) / (2 * (sigma**2))\n",
        "  elemento4 = np.exp(-elemento3)\n",
        "  return elemento1 * elemento2 * elemento4"
      ],
      "execution_count": 0,
      "outputs": []
    },
    {
      "cell_type": "code",
      "metadata": {
        "id": "z0RNCTkG4Doa",
        "colab_type": "code",
        "colab": {}
      },
      "source": [
        "x = np.linspace(0, 1, 10000)\n",
        "y = [0] * len(x)"
      ],
      "execution_count": 0,
      "outputs": []
    },
    {
      "cell_type": "code",
      "metadata": {
        "id": "vsj3FI9q6Ebs",
        "colab_type": "code",
        "colab": {
          "base_uri": "https://localhost:8080/",
          "height": 166
        },
        "outputId": "e70e581f-8ad3-4aa2-8ec2-330e80207826"
      },
      "source": [
        "mu = 0\n",
        "sigma = 1\n",
        "\n",
        "for i in range(len(x)):\n",
        "  y[i] = LogitNormal(x[i], mu, sigma)"
      ],
      "execution_count": 7,
      "outputs": [
        {
          "output_type": "stream",
          "text": [
            "/usr/local/lib/python3.6/dist-packages/ipykernel_launcher.py:3: RuntimeWarning: divide by zero encountered in double_scalars\n",
            "  This is separate from the ipykernel package so we can avoid doing imports until\n",
            "/usr/local/lib/python3.6/dist-packages/ipykernel_launcher.py:2: RuntimeWarning: divide by zero encountered in log\n",
            "  \n",
            "/usr/local/lib/python3.6/dist-packages/ipykernel_launcher.py:6: RuntimeWarning: invalid value encountered in double_scalars\n",
            "  \n",
            "/usr/local/lib/python3.6/dist-packages/ipykernel_launcher.py:2: RuntimeWarning: divide by zero encountered in double_scalars\n",
            "  \n"
          ],
          "name": "stderr"
        }
      ]
    },
    {
      "cell_type": "code",
      "metadata": {
        "id": "2KHjyeI16GS-",
        "colab_type": "code",
        "colab": {}
      },
      "source": [
        "num_simulaciones = 400000\n",
        "data = []\n",
        "\n",
        "for k in range(num_simulaciones):\n",
        "    Y = np.sqrt((5 * np.random.uniform(0,1))+4) - 2\n",
        "    U = np.random.uniform(0,1)\n",
        "\n",
        "   \n",
        "    while U > (F(Y)/T(Y)):    \n",
        "      Y = np.sqrt((5 * np.random.uniform(0,1))+4) - 2\n",
        "      U = np.random.uniform(0,1)\n",
        "    \n",
        "    data.append(Y)"
      ],
      "execution_count": 0,
      "outputs": []
    },
    {
      "cell_type": "code",
      "metadata": {
        "id": "xBWR6Lvf6IUO",
        "colab_type": "code",
        "colab": {
          "base_uri": "https://localhost:8080/",
          "height": 297
        },
        "outputId": "0f9d3972-69fb-42c5-d400-23f373052a5a"
      },
      "source": [
        "fig, ax1 = plt.subplots()\n",
        "plt.grid(True)\n",
        "plt.ylim(top=1.7)\n",
        "plt.ylim(bottom=0)\n",
        "\n",
        "\n",
        "color = 'tab:red'\n",
        "ax1.set_xlabel('x')\n",
        "ax1.set_ylabel('Analítica', color=color)\n",
        "ax1.plot(x, y, 'r--', color=color, linewidth=3.0)\n",
        "ax1.tick_params(axis='y', labelcolor=color)\n",
        "ax1.set_xlim(0, 1)\n",
        "\n",
        "ax2 = ax1.twinx()  \n",
        "\n",
        "color = 'tab:green'\n",
        "ax2.set_ylabel('Simulación', color=color)  \n",
        "ax2.hist(data,bins=100, color=color, density=True)\n",
        "ax2.tick_params(axis='y', labelcolor=color)\n",
        "\n",
        "fig.tight_layout()  \n",
        "plt.show()"
      ],
      "execution_count": 15,
      "outputs": [
        {
          "output_type": "display_data",
          "data": {
            "image/png": "[encoded data removed]",
            "text/plain": [
              "<Figure size 432x288 with 2 Axes>"
            ]
          },
          "metadata": {
            "tags": [],
            "needs_background": "light"
          }
        }
      ]
    }
  ]
}
