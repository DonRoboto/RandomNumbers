{
  "nbformat": 4,
  "nbformat_minor": 0,
  "metadata": {
    "colab": {
      "name": "distribucion_uniforme.ipynb",
      "provenance": [],
      "authorship_tag": "ABX9TyO8ufsrV3JzXFV5Rs8Wtksf",
      "include_colab_link": true
    },
    "kernelspec": {
      "name": "python3",
      "display_name": "Python 3"
    }
  },
  "cells": [
    {
      "cell_type": "markdown",
      "metadata": {
        "id": "view-in-github",
        "colab_type": "text"
      },
      "source": [
        "<a href=\"https://colab.research.google.com/github/DonRoboto/RandomNumbers/blob/master/CONTINUOUS_RANDOM_VARIATES/distribucion_uniforme.ipynb\" target=\"_parent\"><img src=\"https://colab.research.google.com/assets/colab-badge.svg\" alt=\"Open In Colab\"/></a>"
      ]
    },
    {
      "cell_type": "markdown",
      "metadata": {
        "id": "unr332uRVm1g",
        "colab_type": "text"
      },
      "source": [
        "##DISTRIBUCIÓN UNIFORME"
      ]
    },
    {
      "cell_type": "markdown",
      "metadata": {
        "id": "sZJJd8crVqyq",
        "colab_type": "text"
      },
      "source": [
        "Importamos librerias"
      ]
    },
    {
      "cell_type": "code",
      "metadata": {
        "id": "mCyFOHPDVtGd",
        "colab_type": "code",
        "colab": {}
      },
      "source": [
        "import numpy as np\n",
        "import scipy.stats as ss\n",
        "import matplotlib.pyplot as plt\n",
        "import math"
      ],
      "execution_count": 0,
      "outputs": []
    },
    {
      "cell_type": "markdown",
      "metadata": {
        "id": "Vn_P0A_6W-kS",
        "colab_type": "text"
      },
      "source": [
        "Declaramos variables"
      ]
    },
    {
      "cell_type": "code",
      "metadata": {
        "id": "vZ2PNWGdXAPq",
        "colab_type": "code",
        "colab": {}
      },
      "source": [
        "x = np.linspace(1, 5, 10000)\n",
        "y = [0] * len(x)\n",
        "a = 1\n",
        "b = 5"
      ],
      "execution_count": 0,
      "outputs": []
    },
    {
      "cell_type": "markdown",
      "metadata": {
        "id": "btecjltyXCpB",
        "colab_type": "text"
      },
      "source": [
        "Distribución uniforme de manera analítica"
      ]
    },
    {
      "cell_type": "code",
      "metadata": {
        "id": "RXduN4H0XFZG",
        "colab_type": "code",
        "colab": {}
      },
      "source": [
        "for n in range(len(x)):\n",
        "    if a<=x[n] and x[n]<=b:\n",
        "        y[n] = 1 / (b - a)\n",
        "    else:\n",
        "        y[n] = 0"
      ],
      "execution_count": 0,
      "outputs": []
    },
    {
      "cell_type": "markdown",
      "metadata": {
        "id": "YU7SCp6sXV1b",
        "colab_type": "text"
      },
      "source": [
        "Simulación para generar números aleatorios con distribución uniforme escalada con base en números aleatorios de distribución uniforme"
      ]
    },
    {
      "cell_type": "code",
      "metadata": {
        "id": "N3BkL1CYXPIZ",
        "colab_type": "code",
        "colab": {}
      },
      "source": [
        "num_simulaciones = 10000\n",
        "data = []\n",
        "\n",
        "for k in range(num_simulaciones):\n",
        "    u = np.random.uniform(0,1)\n",
        "    x_aux = a + (b - a) * (u)\n",
        "    data.append(x_aux)"
      ],
      "execution_count": 0,
      "outputs": []
    },
    {
      "cell_type": "markdown",
      "metadata": {
        "id": "Qgq6ej9YXb4-",
        "colab_type": "text"
      },
      "source": [
        "Graficamos y comparamos ambas distribuciones"
      ]
    },
    {
      "cell_type": "code",
      "metadata": {
        "id": "8rh7PqPmXeQN",
        "colab_type": "code",
        "colab": {
          "base_uri": "https://localhost:8080/",
          "height": 297
        },
        "outputId": "a3757396-9af2-4a35-ecb0-1ea77bc64b26"
      },
      "source": [
        "fig, ax1 = plt.subplots()\n",
        "plt.grid(True)\n",
        "plt.ylim(top=0.3)\n",
        "plt.ylim(bottom=0)\n",
        "\n",
        "\n",
        "color = 'tab:red'\n",
        "ax1.set_xlabel('x')\n",
        "ax1.set_ylabel('Analítica', color=color)\n",
        "ax1.plot(x, y, 'r--', color=color, linewidth=3.0)\n",
        "ax1.tick_params(axis='y', labelcolor=color)\n",
        "ax1.set_xlim(0, 6)\n",
        "\n",
        "ax2 = ax1.twinx()  \n",
        "\n",
        "color = 'tab:green'\n",
        "ax2.set_ylabel('Simulación', color=color)  \n",
        "ax2.hist(data,bins=100, color=color)\n",
        "ax2.tick_params(axis='y', labelcolor=color)\n",
        "\n",
        "fig.tight_layout()  \n",
        "plt.show()"
      ],
      "execution_count": 5,
      "outputs": [
        {
          "output_type": "display_data",
          "data": {
            "image/png": "[encoded data removed]",
            "text/plain": [
              "<Figure size 432x288 with 2 Axes>"
            ]
          },
          "metadata": {
            "tags": [],
            "needs_background": "light"
          }
        }
      ]
    }
  ]
}