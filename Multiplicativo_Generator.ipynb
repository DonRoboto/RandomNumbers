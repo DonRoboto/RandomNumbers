{
  "nbformat": 4,
  "nbformat_minor": 0,
  "metadata": {
    "colab": {
      "name": "Multiplicativo_Generator.ipynb",
      "provenance": [],
      "collapsed_sections": [],
      "authorship_tag": "ABX9TyM9pVQka2Fk4GP6t9C9E6g3",
      "include_colab_link": true
    },
    "kernelspec": {
      "name": "python3",
      "display_name": "Python 3"
    }
  },
  "cells": [
    {
      "cell_type": "markdown",
      "metadata": {
        "id": "view-in-github",
        "colab_type": "text"
      },
      "source": [
        "<a href=\"https://colab.research.google.com/github/DonRoboto/RandomNumbers/blob/master/Multiplicativo_Generator.ipynb\" target=\"_parent\"><img src=\"https://colab.research.google.com/assets/colab-badge.svg\" alt=\"Open In Colab\"/></a>"
      ]
    },
    {
      "cell_type": "code",
      "metadata": {
        "id": "LG8wsf03cNtE",
        "colab_type": "code",
        "colab": {}
      },
      "source": [
        "from scipy import stats\n",
        "import math \n",
        "import numpy as np\n",
        "from itertools import groupby"
      ],
      "execution_count": 0,
      "outputs": []
    },
    {
      "cell_type": "code",
      "metadata": {
        "id": "xEOJ32tncXCz",
        "colab_type": "code",
        "colab": {}
      },
      "source": [
        "def MeansTest(seq, alfa):\n",
        "    fi = np.array(seq)\n",
        "    #n = fi.shape[0]\n",
        "    n=len(seq)\n",
        "    \n",
        "    x_mean=fi.mean()\n",
        "    \n",
        "    #formula base\n",
        "    z0=((x_mean-0.5)*math.sqrt(n))/(math.sqrt(1/12))\n",
        "    \n",
        "    #estadistico\n",
        "    z_stat=stats.norm.ppf(1-(alfa/2))\n",
        "\n",
        "    #prueba de hipotesis\n",
        "    print(\"***PRUEBA DE PROMEDIOS***\")\n",
        "    print(\"Z0 Datos=\",abs(z0))\n",
        "    print(\"Z=\",z_stat)\n",
        "    \n",
        "    if (abs(z0)<z_stat):\n",
        "        print(\"*NO* No se puede rechazar la hipotesis de que los numeros provienen de una distribucion uniforme\")\n",
        "    else:\n",
        "        print(\"*SI* Se rechaza la hipotesis de que los numeros provienen de una distribucion uniforme\")\n",
        "        "
      ],
      "execution_count": 0,
      "outputs": []
    },
    {
      "cell_type": "code",
      "metadata": {
        "id": "xW7RDKrhdwqS",
        "colab_type": "code",
        "colab": {}
      },
      "source": [
        "def UniformityTest(seq, k, alfa):\n",
        "    #random numbers\n",
        "    fi = np.array(seq)\n",
        "    n = fi.shape[0]\n",
        "\n",
        "    #frecuencia en cada subintervalo\n",
        "    inter = [0] * k\n",
        "    \n",
        "    for j in range(k):       \n",
        "        for i in range(n):                \n",
        "            if (fi[i]>=(j/k)) and (fi[i]<((j+1)/k)):\n",
        "                inter[j]=inter[j]+1\n",
        "        \n",
        "    #formula base\n",
        "    x0=0\n",
        "    for b in range(k):\n",
        "        x0=x0+(inter[b]-(n/k))**2\n",
        "    \n",
        "    x0=x0*(k/n)            \n",
        "\n",
        "    #estadistico\n",
        "    x_stat=stats.chi2.ppf(1-alfa, k-1)\n",
        "\n",
        "    #prueba de hipotesis\n",
        "    print(\"***PRUEBA DE UNIFORMIDAD (FRECUENCIAS)***\")\n",
        "    print(\"Z0=\",x0)\n",
        "    print(\"x_stat=\",x_stat)\n",
        "\n",
        "    if (x0>x_stat):\n",
        "        print(\"*SI* Se rechaza la hipotesis de que los numeros provienen de una distribucion uniforme\")\n",
        "    else:    \n",
        "        print(\"*NO* No se puede rechazar la hipotesis de que los numeros provienen de una distribucion uniforme\")\n"
      ],
      "execution_count": 0,
      "outputs": []
    },
    {
      "cell_type": "code",
      "metadata": {
        "id": "ce0Of_JDdz8i",
        "colab_type": "code",
        "colab": {}
      },
      "source": [
        "def SerialTest2D(seq, k, alfa, d):\n",
        "    fi = np.array(seq)\n",
        "    n = fi.shape[0]\n",
        "    w, h = int(n/2), 2\n",
        "   \n",
        "   \n",
        "    Matrix = [[0 for x in range(h)] for y in range(w)]\n",
        "    Intervalos = [[0 for x in range(k)] for y in range(k)]\n",
        "    \n",
        "    #tuplas de datos\n",
        "    t=0\n",
        "    for i in range(len(Matrix)):\n",
        "        Matrix[i][0]=fi[t]\n",
        "        Matrix[i][1]=fi[t+1]\n",
        "        t=t+2\n",
        "    \n",
        "    x1=0\n",
        "    y1=0\n",
        "    \n",
        "        \n",
        "    for i in range(w):\n",
        "        for j1 in range(k):\n",
        "            if Matrix[i][0]>=(j1/k) and Matrix[i][0]<((j1+1)/k):\n",
        "                x1=j1\n",
        "        for j2 in range(k):\n",
        "            if Matrix[i][1]>=(j2/k) and Matrix[i][1]<((j2+1)/k):\n",
        "                y1=j2                \n",
        "        Intervalos[x1][y1]=Intervalos[x1][y1]+1        \n",
        "        \n",
        "    x2=0\n",
        "    #tuplas de datos\n",
        "    for i in range(k):\n",
        "        for j in range(k):\n",
        "            x2=x2+(Intervalos[i][j]-((n/2)/(k**d)))**d\n",
        "    \n",
        "    x2=x2*((k**d)/(n/2))\n",
        "    \n",
        "    #estadistico\n",
        "    x_stat=stats.chi2.ppf(1-alfa, (k**d)-1)\n",
        "\n",
        "\n",
        "    print(\"***PRUEBA DE SERIES 2D***\")\n",
        "    print(\"x0 (CALCULADO DE DATOS)=\",x2)\n",
        "    print(\"x (ESTADISTICO)=\",x_stat)\n",
        "\n",
        "    if (x2>x_stat):\n",
        "        print(\"*SI* Se rechaza la hipotesis de que los numeros provienen de una distribucion uniforme\")\n",
        "    else:    \n",
        "        print(\"*NO* No se puede rechazar la hipotesis de que los numeros provienen de una distribucion uniforme\")\n",
        "\n",
        "      \n",
        "def SerialTest3D(seq, k, alfa, d):\n",
        "    fi = np.array(seq)\n",
        "    n = fi.shape[0]    \n",
        "    #w, h = n-2, 3;\n",
        "    w, h = int(n/3), 3;\n",
        "    \n",
        "    Matrix = [[0 for x in range(h)] for y in range(w)]\n",
        "    Intervalos = [[[0 for x in range(k)] for y in range(k)] for z in range(k)]\n",
        "    \n",
        "\n",
        "    \n",
        "    #tuplas de datos\n",
        "    t=0\n",
        "    for i in range(len(Matrix)):\n",
        "        Matrix[i][0]=fi[t]\n",
        "        Matrix[i][1]=fi[t+1]\n",
        "        Matrix[i][2]=fi[t+2]\n",
        "        t=t+3\n",
        "  \n",
        "    x1=0\n",
        "    y1=0\n",
        "    z1=0\n",
        "    \n",
        "        \n",
        "    for i in range(w):\n",
        "        for j1 in range(k):\n",
        "            if Matrix[i][0]>=(j1/k) and Matrix[i][0]<((j1+1)/k):\n",
        "                x1=j1\n",
        "        for j2 in range(k):\n",
        "            if Matrix[i][1]>=(j2/k) and Matrix[i][1]<((j2+1)/k):\n",
        "                y1=j2\n",
        "        for j3 in range(k):\n",
        "            if Matrix[i][2]>=(j3/k) and Matrix[i][2]<((j3+1)/k):\n",
        "                z1=j3                \n",
        "        Intervalos[x1][y1][z1]=Intervalos[x1][y1][z1]+1\n",
        "        \n",
        "    x2=0\n",
        "    #tuplas de datos\n",
        "    for i in range(k):\n",
        "        for j in range(k):            \n",
        "            for t in range(k):        \n",
        "                x2=x2+(Intervalos[i][j][t]-((n/3)/(k**d)))**2\n",
        "\n",
        "    x2=x2*((k**d)/(n/3))\n",
        "    \n",
        "    #estadistico\n",
        "    x_stat=stats.chi2.ppf(1-alfa, (k**d)-1)\n",
        "\n",
        "\n",
        "    #prueba de hipotesis\n",
        "    print(\"***PRUEBA DE SERIES 3D***\")\n",
        "    print(\"x0=\",x2)\n",
        "    print(\"x=\",x_stat)\n",
        "\n",
        "    if (x2>x_stat):\n",
        "        print(\"*SI* Se rechaza la hipotesis de que los numeros provienen de una distribucion uniforme\")\n",
        "    else:    \n",
        "        print(\"*NO* No se puede rechazar la hipotesis de que los numeros provienen de una distribucion uniforme\")\n",
        "        \n",
        "\n",
        "\n",
        "\n",
        "def SerialTest5D(seq, k, alfa, d):\n",
        "    fi = np.array(seq)\n",
        "    n = fi.shape[0]    \n",
        "    #w, h = n-2, 3;\n",
        "    w, h = int(n/5), 5;\n",
        "    \n",
        "    Matrix = [[0 for x in range(h)] for y in range(w)]\n",
        "    Intervalos = [[[[[0 for x in range(k)] for y in range(k)] for z in range(k)] for a in range(k)] for b in range(k)]\n",
        "    \n",
        "\n",
        "    \n",
        "    #tuplas de datos\n",
        "    t=0\n",
        "    for i in range(len(Matrix)):\n",
        "        Matrix[i][0]=fi[t]\n",
        "        Matrix[i][1]=fi[t+1]\n",
        "        Matrix[i][2]=fi[t+2]\n",
        "        Matrix[i][3]=fi[t+3]\n",
        "        Matrix[i][4]=fi[t+4]\n",
        "        t=t+5\n",
        "  \n",
        "    x1=0\n",
        "    y1=0\n",
        "    z1=0\n",
        "    a1=0\n",
        "    b1=0\n",
        "    \n",
        "        \n",
        "    for i in range(w):\n",
        "        for j1 in range(k):\n",
        "            if Matrix[i][0]>=(j1/k) and Matrix[i][0]<((j1+1)/k):\n",
        "                x1=j1\n",
        "        for j2 in range(k):\n",
        "            if Matrix[i][1]>=(j2/k) and Matrix[i][1]<((j2+1)/k):\n",
        "                y1=j2\n",
        "        for j3 in range(k):\n",
        "            if Matrix[i][2]>=(j3/k) and Matrix[i][2]<((j3+1)/k):\n",
        "                z1=j3                \n",
        "        for j4 in range(k):\n",
        "            if Matrix[i][3]>=(j4/k) and Matrix[i][3]<((j4+1)/k):\n",
        "                a1=j4                \n",
        "        for j5 in range(k):\n",
        "            if Matrix[i][4]>=(j5/k) and Matrix[i][4]<((j5+1)/k):\n",
        "                b1=j5                        \n",
        "        Intervalos[x1][y1][z1][a1][b1]=Intervalos[x1][y1][z1][a1][b1]+1\n",
        "        \n",
        "    x2=0\n",
        "    #tuplas de datos\n",
        "    for i in range(k):\n",
        "        for j in range(k):            \n",
        "            for t in range(k):\n",
        "                for o in range(k):\n",
        "                    for p in range(k):\n",
        "                        x2=x2+(Intervalos[i][j][t][o][p]-((n/5)/(k**d)))**2\n",
        "\n",
        "    x2=x2*((k**d)/(n/5))\n",
        "    \n",
        "    #estadistico\n",
        "    x_stat=stats.chi2.ppf(1-alfa, (k**d)-1)\n",
        "\n",
        "\n",
        "    #prueba de hipotesis\n",
        "    print(\"***PRUEBA DE SERIES 5D***\")\n",
        "    print(\"x0=\",x2)\n",
        "    print(\"x=\",x_stat)\n",
        "\n",
        "    if (x2>x_stat):\n",
        "        print(\"*SI* Se rechaza la hipotesis de que los numeros provienen de una distribucion uniforme\")\n",
        "    else:    \n",
        "        print(\"*NO* No se puede rechazar la hipotesis de que los numeros provienen de una distribucion uniforme\")\n"
      ],
      "execution_count": 0,
      "outputs": []
    },
    {
      "cell_type": "code",
      "metadata": {
        "id": "yb39G8Jgd3OF",
        "colab_type": "code",
        "colab": {}
      },
      "source": [
        "def RunTest(seq, alfa):\n",
        "    b=[1/6,5/24,11/120,19/720,29/5040,1/840]\n",
        "   \n",
        "    a=[[4529.4,9044.9,13568,18091,22615,27892],\n",
        "      [9044.9,18097,27139,36187,45234,55789],\n",
        "      [13568,27139,40721,54281,67852,83685],\n",
        "      [18091,36187,54281,72414,90470,111580],\n",
        "      [22615,45234,67852,90470,113262,139476],\n",
        "      [27892,55789,83685,111580,139476,172860]]\n",
        "    \n",
        "    fi = np.array(seq)\n",
        "    #random numbers\n",
        "    n = fi.shape[0]\n",
        "\n",
        "    #frecuencia en cada subintervalo\n",
        "    runs = [0] * 6\n",
        "    count_runs=[] \n",
        "    runup=1  \n",
        "    \n",
        "    for i in range(n-1):\n",
        "        if(fi[i]<fi[i+1]):            \n",
        "            runup=runup+1            \n",
        "        else:\n",
        "            count_runs.append(runup)\n",
        "            runup=1\n",
        "\n",
        "    if(fi[n-2]<fi[n-1]):\n",
        "        count_runs.append(runup)            \n",
        "\n",
        "    d = {x:count_runs.count(x) for x in count_runs}\n",
        "    k, v = d.keys(), d.values()\n",
        " \n",
        "    for q in k:\n",
        "        if(q<6):\n",
        "            runs[q-1]=d.get(q,0)\n",
        "        else:\n",
        "            runs[5]=runs[5]+d.get(q,0)\n",
        "     \n",
        "    \n",
        "    R=0    \n",
        "    for i in range(6):\n",
        "        for j in range(6):\n",
        "            R=R+a[i][j]*((runs[i]-n*b[i])*(runs[j]-n*b[j]))\n",
        "    \n",
        "    R=R*(1/n)\n",
        "    \n",
        "    #estadistico\n",
        "    x_stat=stats.chi2.ppf(1-alfa, 6)\n",
        "\n",
        "    #prueba de hipotesis        \n",
        "    print(\"***PRUEBA DE RUNUP***\")\n",
        "    print(\"R = \",R)\n",
        "    #print(\"Estadistico=\",x_stat)\n",
        "    if (R>x_stat):\n",
        "        print(\"*SI* Se rechaza la hipotesis de que los numeros son IID\")\n",
        "    else:    \n",
        "        print(\"*NO* No se puede rechazar la hipotesis de que los numeros son IID\")"
      ],
      "execution_count": 0,
      "outputs": []
    },
    {
      "cell_type": "code",
      "metadata": {
        "id": "rdwAB5LXd4yY",
        "colab_type": "code",
        "colab": {}
      },
      "source": [
        "def KolmogorovTest(seq, alfa):\n",
        "    fi = np.array(seq) \n",
        "    n = fi.shape[0]\n",
        "    #l=fi.values.tolist()\n",
        "    l=seq\n",
        "    l.sort()\n",
        "\n",
        "    Facum=[0]*n\n",
        "    Faux=[0]*n\n",
        "    \n",
        "    for i in range(n):\n",
        "        Facum[i]=(i+1)/n\n",
        "        \n",
        "    for i in range(n):\n",
        "       Faux[i]=abs(Facum[i]-l[i])\n",
        "   \n",
        "    Dmax=-1\n",
        "    for i in range(n):\n",
        "        if(Faux[i]>Dmax):\n",
        "            Dmax=Faux[i]\n",
        "    \n",
        "    #https://es.qwe.wiki/wiki/Kolmogorov%E2%80%93Smirnov_test\n",
        "    c_alfa=(math.sqrt(-0.5 * math.log(alfa/2)))\n",
        "    D_alfa = c_alfa/(math.sqrt(n)+0.12+(0.11/math.sqrt(n)))\n",
        "\n",
        "    #prueba de hipotesis\n",
        "    print(\"***PRUEBA DE KOLMOGOROV***\")\n",
        "    print(\"D_max=\",Dmax)   \n",
        "    print(\"D_alfa=\",D_alfa)   \n",
        "    if (Dmax<D_alfa):\n",
        "        print(\"*NO* No se puede rechazar la hipotesis de que los numeros provienen de una distribucion uniforme\")\n",
        "    else:\n",
        "        print(\"*SI* Se rechaza la hipotesis de que los numeros provienen de una distribucion uniforme\")"
      ],
      "execution_count": 0,
      "outputs": []
    },
    {
      "cell_type": "code",
      "metadata": {
        "id": "4YPchPAVcnCg",
        "colab_type": "code",
        "colab": {}
      },
      "source": [
        "class Multiplicativo():\n",
        "    def __init__(self, a, m, seed):\n",
        "        self.a = a\n",
        "        self.m = m\n",
        "        self.maxin = m - 1\n",
        "        self.seed = seed\n",
        "        \n",
        "    def generate_1( self ):\n",
        "         self.seed = (self.a * self.seed) % self.m\n",
        "         return self.seed"
      ],
      "execution_count": 0,
      "outputs": []
    },
    {
      "cell_type": "code",
      "metadata": {
        "id": "-dZr1v2SctO-",
        "colab_type": "code",
        "colab": {}
      },
      "source": [
        "a=48271\n",
        "m=(2**31)-1\n",
        "seed=123\n",
        "mul = Multiplicativo(a,m,seed)\n",
        "n=120000\n",
        "seq=[]\n",
        "\n",
        "for i in range(n):\n",
        "    seq.append(mul.generate_1()/mul.maxin)"
      ],
      "execution_count": 0,
      "outputs": []
    },
    {
      "cell_type": "code",
      "metadata": {
        "id": "pgNX7OGBc5SE",
        "colab_type": "code",
        "colab": {
          "base_uri": "https://localhost:8080/",
          "height": 91
        },
        "outputId": "a314aac6-fa3e-4926-b36f-fec33ff9a889"
      },
      "source": [
        "#Test de promedios\n",
        "alfa=0.05\n",
        "MeansTest(seq, alfa)"
      ],
      "execution_count": 80,
      "outputs": [
        {
          "output_type": "stream",
          "text": [
            "***PRUEBA DE PROMEDIOS***\n",
            "Z0 Datos= 0.28336217459616897\n",
            "Z= 1.959963984540054\n",
            "*NO* No se puede rechazar la hipotesis de que los numeros provienen de una distribucion uniforme\n"
          ],
          "name": "stdout"
        }
      ]
    },
    {
      "cell_type": "code",
      "metadata": {
        "id": "IFbRmJf_dAdQ",
        "colab_type": "code",
        "colab": {
          "base_uri": "https://localhost:8080/",
          "height": 91
        },
        "outputId": "9cda023c-b8df-455d-b8cf-61bdb225fb96"
      },
      "source": [
        "#TEST DE UNIFORMIDAD (FRECUENCIAS)\n",
        "intervalos=50\n",
        "alfa=0.05\n",
        "UniformityTest(seq, intervalos, alfa)"
      ],
      "execution_count": 81,
      "outputs": [
        {
          "output_type": "stream",
          "text": [
            "***PRUEBA DE UNIFORMIDAD (FRECUENCIAS)***\n",
            "Z0= 62.37416666666667\n",
            "x_stat= 66.3386488629688\n",
            "*NO* No se puede rechazar la hipotesis de que los numeros provienen de una distribucion uniforme\n"
          ],
          "name": "stdout"
        }
      ]
    },
    {
      "cell_type": "code",
      "metadata": {
        "id": "BNR317qhdH4_",
        "colab_type": "code",
        "colab": {
          "base_uri": "https://localhost:8080/",
          "height": 91
        },
        "outputId": "e0a01045-72cc-406a-d505-53c07b5ba52b"
      },
      "source": [
        "#TEST DE SERIES2D\n",
        "intervalos=50\n",
        "alfa=0.05\n",
        "SerialTest2D(seq, intervalos, alfa, 2)"
      ],
      "execution_count": 82,
      "outputs": [
        {
          "output_type": "stream",
          "text": [
            "***PRUEBA DE SERIES 2D***\n",
            "x0 (CALCULADO DE DATOS)= 2541.083333333333\n",
            "x (ESTADISTICO)= 2616.411329836212\n",
            "*NO* No se puede rechazar la hipotesis de que los numeros provienen de una distribucion uniforme\n"
          ],
          "name": "stdout"
        }
      ]
    },
    {
      "cell_type": "code",
      "metadata": {
        "id": "8vV2OwzUdKzd",
        "colab_type": "code",
        "colab": {
          "base_uri": "https://localhost:8080/",
          "height": 91
        },
        "outputId": "cfa11c87-a222-442c-9197-7939aa989f2b"
      },
      "source": [
        "#TEST DE SERIES3D\n",
        "intervalos=40\n",
        "alfa=0.05\n",
        "SerialTest3D(seq, intervalos, alfa,3)"
      ],
      "execution_count": 83,
      "outputs": [
        {
          "output_type": "stream",
          "text": [
            "***PRUEBA DE SERIES 3D***\n",
            "x0= 63932.8\n",
            "x= 64588.61095942205\n",
            "*NO* No se puede rechazar la hipotesis de que los numeros provienen de una distribucion uniforme\n"
          ],
          "name": "stdout"
        }
      ]
    },
    {
      "cell_type": "code",
      "metadata": {
        "id": "0IBKiCbXdQhP",
        "colab_type": "code",
        "colab": {
          "base_uri": "https://localhost:8080/",
          "height": 91
        },
        "outputId": "ad13e55b-4e8f-4035-e42d-49df8480cfaf"
      },
      "source": [
        "#TEST DE SERIES5D\n",
        "intervalos=20\n",
        "alfa=0.05\n",
        "SerialTest5D(seq, intervalos, alfa,5)"
      ],
      "execution_count": 84,
      "outputs": [
        {
          "output_type": "stream",
          "text": [
            "***PRUEBA DE SERIES 5D***\n",
            "x0= 3197333.3333206805\n",
            "x= 3204161.323171506\n",
            "*NO* No se puede rechazar la hipotesis de que los numeros provienen de una distribucion uniforme\n"
          ],
          "name": "stdout"
        }
      ]
    },
    {
      "cell_type": "code",
      "metadata": {
        "id": "5aB3oJrldTsK",
        "colab_type": "code",
        "colab": {
          "base_uri": "https://localhost:8080/",
          "height": 73
        },
        "outputId": "b1531f0c-7001-42a4-8eb7-1b3e818a4fcd"
      },
      "source": [
        "#TEST DE RUNS\n",
        "alfa=0.05\n",
        "RunTest(seq, alfa)"
      ],
      "execution_count": 85,
      "outputs": [
        {
          "output_type": "stream",
          "text": [
            "***PRUEBA DE RUNUP***\n",
            "R =  6.8534099697664\n",
            "*NO* No se puede rechazar la hipotesis de que los numeros son IID\n"
          ],
          "name": "stdout"
        }
      ]
    },
    {
      "cell_type": "code",
      "metadata": {
        "id": "XYpIzU3-dWHK",
        "colab_type": "code",
        "colab": {
          "base_uri": "https://localhost:8080/",
          "height": 91
        },
        "outputId": "250d0f47-9a74-4721-e8b5-48a1496cb6ca"
      },
      "source": [
        "#TEST KOLMOGOROV\n",
        "alfa=0.05\n",
        "KolmogorovTest(seq, alfa)"
      ],
      "execution_count": 86,
      "outputs": [
        {
          "output_type": "stream",
          "text": [
            "***PRUEBA DE KOLMOGOROV***\n",
            "D_max= 0.0019335970062376862\n",
            "D_alfa= 0.003919140155978856\n",
            "*NO* No se puede rechazar la hipotesis de que los numeros provienen de una distribucion uniforme\n"
          ],
          "name": "stdout"
        }
      ]
    }
  ]
}