{
  "nbformat": 4,
  "nbformat_minor": 0,
  "metadata": {
    "colab": {
      "name": "funcion_exp.ipynb",
      "provenance": [],
      "authorship_tag": "ABX9TyOF6G4Rx9iVwC4Gn0xOdyCe",
      "include_colab_link": true
    },
    "kernelspec": {
      "name": "python3",
      "display_name": "Python 3"
    }
  },
  "cells": [
    {
      "cell_type": "markdown",
      "metadata": {
        "id": "view-in-github",
        "colab_type": "text"
      },
      "source": [
        "<a href=\"https://colab.research.google.com/github/DonRoboto/RandomNumbers/blob/master/funcion_exp.ipynb\" target=\"_parent\"><img src=\"https://colab.research.google.com/assets/colab-badge.svg\" alt=\"Open In Colab\"/></a>"
      ]
    },
    {
      "cell_type": "code",
      "metadata": {
        "id": "Qe7vbpWrk7o3",
        "colab_type": "code",
        "colab": {}
      },
      "source": [
        "import numpy as np\n",
        "import matplotlib.pyplot as plt\n",
        "import math"
      ],
      "execution_count": 0,
      "outputs": []
    },
    {
      "cell_type": "code",
      "metadata": {
        "id": "-fhcgmdJk_Iw",
        "colab_type": "code",
        "colab": {}
      },
      "source": [
        "x = np.linspace(-10, 10, 100000)\n",
        "y = [0] * len(x)"
      ],
      "execution_count": 0,
      "outputs": []
    },
    {
      "cell_type": "code",
      "metadata": {
        "id": "cx9wsuBmlBdB",
        "colab_type": "code",
        "colab": {}
      },
      "source": [
        "lmbda = 2\n",
        "for n in range(len(x)):\n",
        "    u1 = np.random.exponential(lmbda)       \n",
        "    u2 = np.random.exponential(lmbda)          \n",
        "    y[n] = min(u1, u2)"
      ],
      "execution_count": 0,
      "outputs": []
    },
    {
      "cell_type": "code",
      "metadata": {
        "id": "ogXCe18HlNYI",
        "colab_type": "code",
        "colab": {}
      },
      "source": [
        "num_simulaciones = 2000000\n",
        "data = []\n",
        "\n",
        "for k in range(num_simulaciones):\n",
        "    u = np.random.uniform(0,1)   \n",
        "    x_aux =  -(1 / (2*(1/lmbda))) * np.log(u)  \n",
        "        \n",
        "    data.append(x_aux)"
      ],
      "execution_count": 0,
      "outputs": []
    },
    {
      "cell_type": "code",
      "metadata": {
        "id": "JhhCrYIzlQb2",
        "colab_type": "code",
        "colab": {
          "base_uri": "https://localhost:8080/",
          "height": 297
        },
        "outputId": "6bd0193b-a978-4d8c-9592-a9ede0413cfd"
      },
      "source": [
        "fig, ax1 = plt.subplots()\n",
        "plt.grid(True)\n",
        "plt.ylim(top=1)\n",
        "plt.ylim(bottom=0)\n",
        "\n",
        "\n",
        "color = 'tab:red'\n",
        "ax1.set_xlabel('x')\n",
        "ax1.set_ylabel('Analítica', color=color)\n",
        "#ax1.plot(x, y, 'r--', color=color, linewidth=3.0)\n",
        "ax1.hist(y, bins=100, color=color, density=True)\n",
        "ax1.tick_params(axis='y', labelcolor=color)\n",
        "ax1.set_xlim(-10, 10)\n",
        "\n",
        "ax2 = ax1.twinx()  \n",
        "\n",
        "color = 'tab:green'\n",
        "ax2.set_ylabel('Simulación', color=color)  \n",
        "ax2.hist(data, bins=100, color=color, density=True)\n",
        "ax2.tick_params(axis='y', labelcolor=color)\n",
        "\n",
        "fig.tight_layout()  \n",
        "plt.show()\n"
      ],
      "execution_count": 6,
      "outputs": [
        {
          "output_type": "display_data",
          "data": {
            "image/png": "[encoded data removed]",
            "text/plain": [
              "<Figure size 432x288 with 2 Axes>"
            ]
          },
          "metadata": {
            "tags": [],
            "needs_background": "light"
          }
        }
      ]
    }
  ]
}